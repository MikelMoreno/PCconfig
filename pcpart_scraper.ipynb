{
 "cells": [
  {
   "cell_type": "code",
   "execution_count": 7,
   "metadata": {},
   "outputs": [],
   "source": [
    "import os\n",
    "import time\n",
    "from lxml import html\n",
    "import requests\n",
    "import numpy as np\n",
    "import pandas as pd\n",
    "import time\n",
    "import re\n",
    "from tqdm import tqdm\n",
    "from currency_converter import CurrencyConverter"
   ]
  },
  {
   "cell_type": "code",
   "execution_count": 4,
   "metadata": {},
   "outputs": [],
   "source": [
    "def scrape(type=\"CPU\", min_year=2017, max_year=2021):\n",
    "    # Returns a list of tr_elements, one per year\n",
    "    tr_tables = []\n",
    "\n",
    "    if type == \"CPU\":\n",
    "        base_url = 'https://www.techpowerup.com/cpu-specs/?released='\n",
    "        filt_url = '&mobile=No&sort=name'\n",
    "    else:\n",
    "        base_url = 'https://www.techpowerup.com/gpu-specs/?released='\n",
    "        filt_url = '&mobile=No&igp=No&sort=name'\n",
    "    \n",
    "    years = list(range(min_year, max_year+1))\n",
    "    for year in tqdm(years):\n",
    "        page = requests.get(base_url+str(year)+filt_url)\n",
    "        tree = html.fromstring(page.content)\n",
    "        tr_elements = tree.xpath('//tr')\n",
    "        tr_tables.append(tr_elements)\n",
    "\n",
    "        time.sleep(60)\n",
    "\n",
    "    return tr_tables"
   ]
  },
  {
   "cell_type": "code",
   "execution_count": 64,
   "metadata": {},
   "outputs": [],
   "source": [
    "def clean_name(t):\n",
    "    name = t.text_content()\n",
    "    aux = name.split()\n",
    "    \n",
    "    return \" \".join(aux)\n",
    "\n",
    "def div_positions(tr_tables):\n",
    "    # Return tuple with Manufacturer and upcoming header position\n",
    "    div_pos = []\n",
    "\n",
    "    for tr_elements in tr_tables:\n",
    "        header_pos = [(clean_name(t), i+1) for i, element in enumerate(tr_elements) for t in element if (clean_name(t) == \"AMD\") or (clean_name(t) == \"Intel\") or (clean_name(t) == \"NVIDIA\")]\n",
    "        div_pos.append(header_pos)\n",
    "\n",
    "    return div_pos"
   ]
  },
  {
   "cell_type": "code",
   "execution_count": 5,
   "metadata": {},
   "outputs": [
    {
     "name": "stderr",
     "output_type": "stream",
     "text": [
      "100%|██████████| 5/5 [05:03<00:00, 60.76s/it]\n"
     ]
    }
   ],
   "source": [
    "cpu_tables = scrape(\"CPU\", 2017, 2021)"
   ]
  },
  {
   "cell_type": "code",
   "execution_count": 74,
   "metadata": {},
   "outputs": [],
   "source": [
    "def scraped_dataframe(tr_tables):\n",
    "    div_pos = div_positions(tr_tables)\n",
    "    row_data = []\n",
    "    have_header = False\n",
    "\n",
    "    for year_pos, tr_elements in zip(div_pos, tr_tables):\n",
    "        # Create header\n",
    "        if not(have_header):\n",
    "            _, i = year_pos[0]\n",
    "            header = ['Manufacturer']\n",
    "            for t in tr_elements[i]:\n",
    "                header.append(clean_name(t))\n",
    "            have_header = True\n",
    "        \n",
    "        # Number of manufacturers\n",
    "        n_man = len(year_pos)\n",
    "        for i, (manuf, h) in enumerate(year_pos):\n",
    "            if i == n_man - 1:\n",
    "                data = tr_elements[h+1:]\n",
    "            else:\n",
    "                data = tr_elements[h+1:year_pos[i+1][1]-1]\n",
    "            manuf_comp = [[clean_name(t) for t in elem] for elem in data]\n",
    "            for sublist in manuf_comp:\n",
    "                sublist.insert(0, manuf)\n",
    "                row_data.append(sublist)\n",
    "    \n",
    "    col_data = [[row[i] for row in row_data] for i in range(len(row_data[0]))]\n",
    "    return pd.DataFrame(dict(zip(header, col_data)))"
   ]
  },
  {
   "cell_type": "code",
   "execution_count": 75,
   "metadata": {},
   "outputs": [
    {
     "name": "stdout",
     "output_type": "stream",
     "text": [
      "    Manufacturer         Name       Codename    Cores           Clock  \\\n",
      "0            AMD     A10-9700  Bristol Ridge        4  3.5 to 3.8 GHz   \n",
      "1            AMD    A10-9700E  Bristol Ridge        4    3 to 3.5 GHz   \n",
      "2            AMD     A12-9800  Bristol Ridge        4  3.8 to 4.2 GHz   \n",
      "3            AMD    A12-9800E  Bristol Ridge        4  3.1 to 3.8 GHz   \n",
      "4            AMD      A6-9500  Bristol Ridge        2  3.5 to 3.8 GHz   \n",
      "..           ...          ...            ...      ...             ...   \n",
      "402        Intel  Xeon W-3323     Ice Lake-W  12 / 24    3.5 to 4 GHz   \n",
      "403        Intel  Xeon W-3335     Ice Lake-W  16 / 32    3.4 to 4 GHz   \n",
      "404        Intel  Xeon W-3345     Ice Lake-W  24 / 48      3 to 4 GHz   \n",
      "405        Intel  Xeon W-3365     Ice Lake-W  32 / 64    2.7 to 4 GHz   \n",
      "406        Intel  Xeon W-3375     Ice Lake-W  38 / 76    2.5 to 4 GHz   \n",
      "\n",
      "          Socket Process L3 Cache    TDP        Released  \n",
      "0     Socket AM4   28 nm      N/A   65 W  Jul 27th, 2017  \n",
      "1     Socket AM4   28 nm      N/A   35 W  Jul 27th, 2017  \n",
      "2     Socket AM4   28 nm      N/A   65 W  Jul 27th, 2017  \n",
      "3     Socket AM4   28 nm      N/A   35 W  Jul 27th, 2017  \n",
      "4     Socket AM4   28 nm      N/A   65 W  Jul 27th, 2017  \n",
      "..           ...     ...      ...    ...             ...  \n",
      "402  Socket 4189   10 nm     18MB  220 W  Jul 29th, 2021  \n",
      "403  Socket 4189   10 nm     24MB  250 W  Jul 29th, 2021  \n",
      "404  Socket 4189   10 nm     36MB  250 W  Jul 29th, 2021  \n",
      "405  Socket 4189   10 nm     48MB  270 W  Jul 29th, 2021  \n",
      "406  Socket 4189   10 nm     57MB  270 W  Jul 29th, 2021  \n",
      "\n",
      "[407 rows x 10 columns]\n"
     ]
    }
   ],
   "source": [
    "cpu_df = scraped_dataframe(cpu_tables)\n",
    "print(cpu_df)"
   ]
  },
  {
   "cell_type": "code",
   "execution_count": 76,
   "metadata": {},
   "outputs": [],
   "source": [
    "CPU_DATASET = \"./Data/cpu_raw.csv\"\n",
    "cpu_df.to_csv(CPU_DATASET, index=False)"
   ]
  },
  {
   "cell_type": "code",
   "execution_count": 77,
   "metadata": {},
   "outputs": [
    {
     "name": "stderr",
     "output_type": "stream",
     "text": [
      "100%|██████████| 6/6 [06:04<00:00, 60.67s/it]\n"
     ]
    }
   ],
   "source": [
    "gpu_tables = scrape(\"GPU\", 2017, 2022)"
   ]
  },
  {
   "cell_type": "code",
   "execution_count": 78,
   "metadata": {},
   "outputs": [
    {
     "name": "stdout",
     "output_type": "stream",
     "text": [
      "[[('AMD', 31), ('NVIDIA', 59)], [('AMD', 31), ('NVIDIA', 49)], [('AMD', 31), ('NVIDIA', 48)], [('AMD', 31), ('Intel', 55), ('NVIDIA', 60)], [('AMD', 31), ('Intel', 45), ('NVIDIA', 49)], [('AMD', 31), ('NVIDIA', 36)]]\n"
     ]
    }
   ],
   "source": [
    "print(div_positions(gpu_tables))"
   ]
  },
  {
   "cell_type": "code",
   "execution_count": 79,
   "metadata": {},
   "outputs": [
    {
     "name": "stdout",
     "output_type": "stream",
     "text": [
      "    Manufacturer               Product Name   GPU Chip        Released  \\\n",
      "0            AMD                 Radeon 550       Lexa  Apr 20th, 2017   \n",
      "1            AMD       Radeon Instinct MI25    Vega 10  Jun 27th, 2017   \n",
      "2            AMD     Radeon Pro Duo Polaris  Ellesmere  Apr 24th, 2017   \n",
      "3            AMD             Radeon Pro SSG    Vega 10   Aug 8th, 2017   \n",
      "4            AMD            Radeon Pro V320    Vega 10  Jun 29th, 2017   \n",
      "..           ...                        ...        ...             ...   \n",
      "217       NVIDIA           GeForce RTX 3050      GA107            2022   \n",
      "218       NVIDIA  GeForce RTX 3070 Ti 16 GB      GA104        Jan 2022   \n",
      "219       NVIDIA     GeForce RTX 3080 12 GB      GA102        Jan 2022   \n",
      "220       NVIDIA  GeForce RTX 3080 Ti 20 GB      GA102        Jan 2022   \n",
      "221       NVIDIA        GeForce RTX 3090 Ti      GA102         Unknown   \n",
      "\n",
      "              Bus                  Memory GPU clock Memory clock  \\\n",
      "0     PCIe 3.0 x8     2 GB, GDDR5, 64 bit  1100 MHz     1750 MHz   \n",
      "1    PCIe 3.0 x16   16 GB, HBM2, 2048 bit  1400 MHz      852 MHz   \n",
      "2    PCIe 3.0 x16   16 GB, GDDR5, 256 bit  1243 MHz     1750 MHz   \n",
      "3    PCIe 3.0 x16   16 GB, HBM2, 2048 bit  1440 MHz      945 MHz   \n",
      "4    PCIe 3.0 x16   16 GB, HBM2, 2048 bit   852 MHz      945 MHz   \n",
      "..            ...                     ...       ...          ...   \n",
      "217  PCIe 4.0 x16    4 GB, GDDR6, 128 bit  1545 MHz     1750 MHz   \n",
      "218  PCIe 4.0 x16  16 GB, GDDR6X, 256 bit  1575 MHz     1188 MHz   \n",
      "219  PCIe 4.0 x16  12 GB, GDDR6X, 384 bit  1260 MHz     1188 MHz   \n",
      "220  PCIe 4.0 x16  20 GB, GDDR6X, 320 bit  1335 MHz     1188 MHz   \n",
      "221  PCIe 4.0 x16  24 GB, GDDR6X, 384 bit  1560 MHz     1325 MHz   \n",
      "\n",
      "    Shaders / TMUs / ROPs  \n",
      "0           512 / 32 / 16  \n",
      "1         4096 / 256 / 64  \n",
      "2         2304 / 144 / 32  \n",
      "3         4096 / 256 / 64  \n",
      "4         4096 / 256 / 64  \n",
      "..                    ...  \n",
      "217        2304 / 72 / 40  \n",
      "218       6144 / 192 / 96  \n",
      "219       8704 / 272 / 96  \n",
      "220     10240 / 320 / 112  \n",
      "221     10752 / 336 / 112  \n",
      "\n",
      "[222 rows x 9 columns]\n"
     ]
    }
   ],
   "source": [
    "gpu_df = scraped_dataframe(gpu_tables)\n",
    "print(gpu_df)"
   ]
  },
  {
   "cell_type": "code",
   "execution_count": 80,
   "metadata": {},
   "outputs": [],
   "source": [
    "GPU_DATASET = \"./Data/gpu_raw.csv\"\n",
    "gpu_df.to_csv(GPU_DATASET, index=False)"
   ]
  },
  {
   "cell_type": "code",
   "execution_count": null,
   "metadata": {},
   "outputs": [],
   "source": []
  }
 ],
 "metadata": {
  "interpreter": {
   "hash": "d8d0786e6570a3bbadd7cf6109edde05742ab435f122444f87c8f135857e1fa8"
  },
  "kernelspec": {
   "display_name": "Python 3.8.11 64-bit ('base': conda)",
   "language": "python",
   "name": "python3"
  },
  "language_info": {
   "codemirror_mode": {
    "name": "ipython",
    "version": 3
   },
   "file_extension": ".py",
   "mimetype": "text/x-python",
   "name": "python",
   "nbconvert_exporter": "python",
   "pygments_lexer": "ipython3",
   "version": "3.9.7"
  },
  "orig_nbformat": 4
 },
 "nbformat": 4,
 "nbformat_minor": 2
}
