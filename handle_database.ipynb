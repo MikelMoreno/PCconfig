{
 "cells": [
  {
   "cell_type": "code",
   "execution_count": 109,
   "metadata": {},
   "outputs": [
    {
     "name": "stdout",
     "output_type": "stream",
     "text": [
      "                      name  rating  rating_count  price_usd core_count  \\\n",
      "0         AMD Ryzen 5 3600       4          1025     245.99          6   \n",
      "1        AMD Ryzen 5 5600X       4           266     299.00          6   \n",
      "2        AMD Ryzen 7 3700X       4           565     286.00          8   \n",
      "3        AMD Ryzen 7 5800X       4           146     399.99          8   \n",
      "4     Intel Core i7-10700K       4            80     319.99          8   \n",
      "...                    ...     ...           ...        ...        ...   \n",
      "1295      AMD Ryzen 5 3500       5             1        NaN          6   \n",
      "1296          AMD A10-9700       0             0     119.99          4   \n",
      "1297    Intel Core i5-9400       4            12     234.10          6   \n",
      "1298   Intel Core i5-3570K       4           462     136.50          4   \n",
      "1299     AMD Ryzen 7 1700X       4            91     453.46          8   \n",
      "\n",
      "     core_clock boost_clock    tdp     integrated_graphics    smt  \n",
      "0       3.6 GHz     4.2 GHz   65 W                    None   True  \n",
      "1       3.7 GHz     4.6 GHz   65 W                    None   True  \n",
      "2       3.6 GHz     4.4 GHz   65 W                    None   True  \n",
      "3       3.8 GHz     4.7 GHz  105 W                    None   True  \n",
      "4       3.8 GHz     5.1 GHz  125 W  Intel UHD Graphics 630   True  \n",
      "...         ...         ...    ...                     ...    ...  \n",
      "1295    3.6 GHz     4.1 GHz   65 W                    None  False  \n",
      "1296    3.5 GHz     3.8 GHz   65 W      Radeon R7 (on-die)  False  \n",
      "1297    2.9 GHz     4.1 GHz   65 W  Intel UHD Graphics 630  False  \n",
      "1298    3.4 GHz        None   77 W  Intel HD Graphics 4000  False  \n",
      "1299    3.4 GHz     3.8 GHz   95 W                    None   True  \n",
      "\n",
      "[1300 rows x 10 columns]\n"
     ]
    }
   ],
   "source": [
    "import json\n",
    "import pandas as pd\n",
    "import os\n",
    "import matplotlib.pyplot as plt\n",
    "import re\n",
    "from sklearn.preprocessing import LabelEncoder, OneHotEncoder, minmax_scale, scale\n",
    "\n",
    "cpu_file = './Data/cpu.json'\n",
    "with open(cpu_file) as filename:\n",
    "    dict_cpu = json.load(filename)\n",
    "\n",
    "pd_cpu = pd.DataFrame(dict_cpu)\n",
    "print(pd_cpu)"
   ]
  },
  {
   "cell_type": "code",
   "execution_count": 110,
   "metadata": {},
   "outputs": [],
   "source": [
    "pd_cpu = pd_cpu[pd_cpu['boost_clock'].notna()]\n",
    "pd_cpu = pd_cpu[pd_cpu['price_usd'].notna()]\n",
    "pd_cpu.reset_index(inplace=True)"
   ]
  },
  {
   "cell_type": "code",
   "execution_count": 111,
   "metadata": {},
   "outputs": [
    {
     "name": "stdout",
     "output_type": "stream",
     "text": [
      "     core_clock boost_clock\n",
      "0       3.6 GHz     4.2 GHz\n",
      "1       3.7 GHz     4.6 GHz\n",
      "2       3.6 GHz     4.4 GHz\n",
      "3       3.8 GHz     4.7 GHz\n",
      "4       3.8 GHz     5.1 GHz\n",
      "...         ...         ...\n",
      "1048    3.5 GHz     3.9 GHz\n",
      "1049      3 GHz     3.7 GHz\n",
      "1050    3.5 GHz     3.8 GHz\n",
      "1051    2.9 GHz     4.1 GHz\n",
      "1052    3.4 GHz     3.8 GHz\n",
      "\n",
      "[1053 rows x 2 columns]\n"
     ]
    }
   ],
   "source": [
    "print(pd_cpu.loc[:, 'core_clock':'boost_clock'])"
   ]
  },
  {
   "cell_type": "code",
   "execution_count": 112,
   "metadata": {},
   "outputs": [],
   "source": [
    "def magic_float(string):\n",
    "    return float(re.findall(r'(\\d{1}\\.*\\d*) \\w', string)[0])"
   ]
  },
  {
   "cell_type": "code",
   "execution_count": 113,
   "metadata": {},
   "outputs": [],
   "source": [
    "for i in pd_cpu.index:\n",
    "    pd_cpu.at[i, 'core_clock'] = magic_float(pd_cpu.at[i, 'core_clock'])\n",
    "    pd_cpu.at[i, 'boost_clock'] = magic_float(pd_cpu.at[i, 'boost_clock'])\n",
    "    pd_cpu.at[i, 'tdp'] = magic_float(pd_cpu.at[i, 'tdp'])"
   ]
  },
  {
   "cell_type": "code",
   "execution_count": 114,
   "metadata": {},
   "outputs": [
    {
     "data": {
      "text/plain": [
       "<AxesSubplot:>"
      ]
     },
     "execution_count": 114,
     "metadata": {},
     "output_type": "execute_result"
    },
    {
     "data": {
      "image/png": "[encoded data removed]",
      "text/plain": [
       "<Figure size 432x288 with 1 Axes>"
      ]
     },
     "metadata": {
      "needs_background": "light"
     },
     "output_type": "display_data"
    }
   ],
   "source": [
    "pd_cpu['boost_clock'].hist(bins=20, edgecolor='k')"
   ]
  },
  {
   "cell_type": "code",
   "execution_count": 115,
   "metadata": {},
   "outputs": [
    {
     "name": "stdout",
     "output_type": "stream",
     "text": [
      "      index    perf                  name  rating  rating_count  price_usd  \\\n",
      "0         0  medium      AMD Ryzen 5 3600       4          1025     245.99   \n",
      "1         1    high     AMD Ryzen 5 5600X       4           266     299.00   \n",
      "2         2    high     AMD Ryzen 7 3700X       4           565     286.00   \n",
      "3         3    high     AMD Ryzen 7 5800X       4           146     399.99   \n",
      "4         4    high  Intel Core i7-10700K       4            80     319.99   \n",
      "...     ...     ...                   ...     ...           ...        ...   \n",
      "1048   1291  medium   Intel Core i7-4770K       4           467     300.00   \n",
      "1049   1293   light      AMD Ryzen 7 1700       4           172     385.00   \n",
      "1050   1296  medium          AMD A10-9700       0             0     119.99   \n",
      "1051   1297  medium    Intel Core i5-9400       4            12     234.10   \n",
      "1052   1299  medium     AMD Ryzen 7 1700X       4            91     453.46   \n",
      "\n",
      "     core_count core_clock boost_clock    tdp     integrated_graphics    smt  \n",
      "0             6        3.6         4.2   65.0                    None   True  \n",
      "1             6        3.7         4.6   65.0                    None   True  \n",
      "2             8        3.6         4.4   65.0                    None   True  \n",
      "3             8        3.8         4.7  105.0                    None   True  \n",
      "4             8        3.8         5.1  125.0  Intel UHD Graphics 630   True  \n",
      "...         ...        ...         ...    ...                     ...    ...  \n",
      "1048          4        3.5         3.9   84.0  Intel HD Graphics 4600   True  \n",
      "1049          8        3.0         3.7   65.0                    None   True  \n",
      "1050          4        3.5         3.8   65.0      Radeon R7 (on-die)  False  \n",
      "1051          6        2.9         4.1   65.0  Intel UHD Graphics 630  False  \n",
      "1052          8        3.4         3.8   95.0                    None   True  \n",
      "\n",
      "[1053 rows x 12 columns]\n"
     ]
    }
   ],
   "source": [
    "labels = []\n",
    "for i in pd_cpu.index:\n",
    "    value = pd_cpu.loc[i, \"boost_clock\"]\n",
    "    if value >= 4.3:\n",
    "        labels.append('high')\n",
    "    elif (value >= 3.8) and (value < 4.3):\n",
    "        labels.append('medium')\n",
    "    else:\n",
    "        labels.append('light')\n",
    "pd_cpu.insert (1, \"perf\", labels)\n",
    "print(pd_cpu)"
   ]
  },
  {
   "cell_type": "code",
   "execution_count": 117,
   "metadata": {},
   "outputs": [
    {
     "name": "stdout",
     "output_type": "stream",
     "text": [
      "cpu('AMD Ryzen 5 3600', perf(medium), os(['windows', 'linux']), tdp(65))\n"
     ]
    }
   ],
   "source": [
    "for i in pd_cpu.index:\n",
    "    name = pd_cpu.loc[i, \"name\"]\n",
    "    perf = pd_cpu.loc[i, \"perf\"]\n",
    "    os_name = str(['windows', 'linux'])\n",
    "    tdp = pd_cpu.loc[i, \"tdp\"]\n",
    "    cpu_str = 'cpu(\\'%s\\', perf(%s), os(%s), tdp(%d))' % (name, perf, os_name, tdp)\n",
    "    print(cpu_str)\n",
    "    break"
   ]
  },
  {
   "cell_type": "code",
   "execution_count": null,
   "metadata": {},
   "outputs": [],
   "source": []
  }
 ],
 "metadata": {
  "interpreter": {
   "hash": "93931ace6c329e549d86715bde312d15ad3289045188c625dbda1249031d89a3"
  },
  "kernelspec": {
   "display_name": "Python 3.9.7 64-bit ('tf-gpu': conda)",
   "language": "python",
   "name": "python3"
  },
  "language_info": {
   "codemirror_mode": {
    "name": "ipython",
    "version": 3
   },
   "file_extension": ".py",
   "mimetype": "text/x-python",
   "name": "python",
   "nbconvert_exporter": "python",
   "pygments_lexer": "ipython3",
   "version": "3.9.7"
  },
  "orig_nbformat": 4
 },
 "nbformat": 4,
 "nbformat_minor": 2
}
