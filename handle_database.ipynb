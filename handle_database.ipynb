{
 "cells": [
  {
   "cell_type": "code",
   "execution_count": 124,
   "metadata": {},
   "outputs": [],
   "source": [
    "import pandas as pd\n",
    "import os\n",
    "import matplotlib.pyplot as plt\n",
    "import re\n",
    "from sklearn.preprocessing import LabelEncoder, OneHotEncoder, minmax_scale, scale"
   ]
  },
  {
   "cell_type": "code",
   "execution_count": 125,
   "metadata": {},
   "outputs": [
    {
     "name": "stdout",
     "output_type": "stream",
     "text": [
      "    Manufacturer         Name       Codename    Cores           Clock  \\\n",
      "0            AMD     A10-9700  Bristol Ridge        4  3.5 to 3.8 GHz   \n",
      "1            AMD    A10-9700E  Bristol Ridge        4    3 to 3.5 GHz   \n",
      "2            AMD     A12-9800  Bristol Ridge        4  3.8 to 4.2 GHz   \n",
      "3            AMD    A12-9800E  Bristol Ridge        4  3.1 to 3.8 GHz   \n",
      "4            AMD      A6-9500  Bristol Ridge        2  3.5 to 3.8 GHz   \n",
      "..           ...          ...            ...      ...             ...   \n",
      "402        Intel  Xeon W-3323     Ice Lake-W  12 / 24    3.5 to 4 GHz   \n",
      "403        Intel  Xeon W-3335     Ice Lake-W  16 / 32    3.4 to 4 GHz   \n",
      "404        Intel  Xeon W-3345     Ice Lake-W  24 / 48      3 to 4 GHz   \n",
      "405        Intel  Xeon W-3365     Ice Lake-W  32 / 64    2.7 to 4 GHz   \n",
      "406        Intel  Xeon W-3375     Ice Lake-W  38 / 76    2.5 to 4 GHz   \n",
      "\n",
      "          Socket Process L3 Cache    TDP        Released  \n",
      "0     Socket AM4   28 nm      NaN   65 W  Jul 27th, 2017  \n",
      "1     Socket AM4   28 nm      NaN   35 W  Jul 27th, 2017  \n",
      "2     Socket AM4   28 nm      NaN   65 W  Jul 27th, 2017  \n",
      "3     Socket AM4   28 nm      NaN   35 W  Jul 27th, 2017  \n",
      "4     Socket AM4   28 nm      NaN   65 W  Jul 27th, 2017  \n",
      "..           ...     ...      ...    ...             ...  \n",
      "402  Socket 4189   10 nm     18MB  220 W  Jul 29th, 2021  \n",
      "403  Socket 4189   10 nm     24MB  250 W  Jul 29th, 2021  \n",
      "404  Socket 4189   10 nm     36MB  250 W  Jul 29th, 2021  \n",
      "405  Socket 4189   10 nm     48MB  270 W  Jul 29th, 2021  \n",
      "406  Socket 4189   10 nm     57MB  270 W  Jul 29th, 2021  \n",
      "\n",
      "[407 rows x 10 columns]\n"
     ]
    }
   ],
   "source": [
    "CPU_CSV = './Data/cpu.csv'\n",
    "cpu_df = pd.read_csv(CPU_CSV)\n",
    "print(cpu_df)"
   ]
  },
  {
   "cell_type": "code",
   "execution_count": 126,
   "metadata": {},
   "outputs": [],
   "source": [
    "def get_boost_clock(string):\n",
    "    capture = re.findall(r'\\d{1}\\.*\\d*', string)\n",
    "    if capture:\n",
    "        aux = capture[-1]\n",
    "        clock = float(aux)\n",
    "        if \"MHz\" in string:\n",
    "            clock /= 1000\n",
    "        return clock\n",
    "    else:\n",
    "        return None\n",
    "\n",
    "def get_cores_threads(string):\n",
    "    capture = re.findall(r'\\d+', string)\n",
    "    if capture:\n",
    "        if len(capture) > 1:\n",
    "            return int(capture[0]), int(capture[1])\n",
    "        else:\n",
    "            return int(capture[0]), int(capture[0])\n",
    "    else:\n",
    "        return None\n",
    "\n",
    "def get_val(string):\n",
    "    capture = re.findall(r'\\d+', string)\n",
    "    if capture:\n",
    "        return int(capture[0])\n",
    "    else:\n",
    "        return None\n",
    "\n",
    "def get_year(string):\n",
    "    capture = re.findall(r'\\d+', string)\n",
    "    if capture:\n",
    "        return int(capture[1])\n",
    "    else:\n",
    "        return None"
   ]
  },
  {
   "cell_type": "code",
   "execution_count": 127,
   "metadata": {},
   "outputs": [
    {
     "name": "stdout",
     "output_type": "stream",
     "text": [
      "    Manufacturer          Name    Codename Cores  Threads           Clock  \\\n",
      "188          AMD  Athlon 3000G         Zen     2        4         3.5 GHz   \n",
      "189          AMD    EPYC 7232P        Rome     8       16  3.1 to 3.2 GHz   \n",
      "190          AMD     EPYC 7252        Rome     8       16  2.8 to 3.2 GHz   \n",
      "191          AMD     EPYC 7262        Rome     8       16  3.1 to 3.3 GHz   \n",
      "192          AMD     EPYC 7272        Rome    12       24  2.6 to 3.2 GHz   \n",
      "..           ...           ...         ...   ...      ...             ...   \n",
      "402        Intel   Xeon W-3323  Ice Lake-W    12       24    3.5 to 4 GHz   \n",
      "403        Intel   Xeon W-3335  Ice Lake-W    16       32    3.4 to 4 GHz   \n",
      "404        Intel   Xeon W-3345  Ice Lake-W    24       48      3 to 4 GHz   \n",
      "405        Intel   Xeon W-3365  Ice Lake-W    32       64    2.7 to 4 GHz   \n",
      "406        Intel   Xeon W-3375  Ice Lake-W    38       76    2.5 to 4 GHz   \n",
      "\n",
      "     Boost       Socket Process L3 Cache  TDP        Released  \n",
      "188    3.5   Socket AM4      14      4MB   35  Nov 20th, 2019  \n",
      "189    3.2   Socket SP3       7     32MB  120   Aug 7th, 2019  \n",
      "190    3.2   Socket SP3       7     64MB  120   Aug 7th, 2019  \n",
      "191    3.3   Socket SP3       7    128MB  155   Aug 7th, 2019  \n",
      "192    3.2   Socket SP3       7     64MB  120   Aug 7th, 2019  \n",
      "..     ...          ...     ...      ...  ...             ...  \n",
      "402    4.0  Socket 4189      10     18MB  220  Jul 29th, 2021  \n",
      "403    4.0  Socket 4189      10     24MB  250  Jul 29th, 2021  \n",
      "404    4.0  Socket 4189      10     36MB  250  Jul 29th, 2021  \n",
      "405    4.0  Socket 4189      10     48MB  270  Jul 29th, 2021  \n",
      "406    4.0  Socket 4189      10     57MB  270  Jul 29th, 2021  \n",
      "\n",
      "[219 rows x 12 columns]\n"
     ]
    }
   ],
   "source": [
    "# Insert boost clock, cores and threads\n",
    "clocks = [get_boost_clock(cpu_df.loc[i, 'Clock']) for i in cpu_df.index]\n",
    "cores = [get_cores_threads(cpu_df.loc[i, 'Cores'])[0] for i in cpu_df.index]\n",
    "threads = [get_cores_threads(cpu_df.loc[i, 'Cores'])[1] for i in cpu_df.index]\n",
    "nodes = [get_val(cpu_df.loc[i, 'Process']) for i in cpu_df.index]\n",
    "watts = [get_val(cpu_df.loc[i, 'TDP']) for i in cpu_df.index]\n",
    "years = [get_year(cpu_df.loc[i, 'Released']) for i in cpu_df.index]\n",
    "cpu_df.insert(5, \"Boost\", clocks)\n",
    "cpu_df.insert(4, \"Threads\", threads)\n",
    "for i in cpu_df.index:\n",
    "    cpu_df.at[i, 'Cores'] = cores[i]\n",
    "    cpu_df.at[i, 'Process'] = nodes[i]\n",
    "    cpu_df.at[i, 'TDP'] = watts[i]\n",
    "\n",
    "# Remove 2017\n",
    "cpu_df = cpu_df[~cpu_df.Released.str.contains(\"2017\")]\n",
    "cpu_df = cpu_df[~cpu_df.Released.str.contains(\"2018\")]\n",
    "\n",
    "print(cpu_df)"
   ]
  },
  {
   "cell_type": "code",
   "execution_count": 128,
   "metadata": {},
   "outputs": [
    {
     "name": "stdout",
     "output_type": "stream",
     "text": [
      "    Manufacturer                Name      Codename Cores  Threads  \\\n",
      "0            AMD        Athlon 3000G           Zen     2        4   \n",
      "1            AMD       Ryzen 3 3200G       Picasso     4        4   \n",
      "2            AMD       Ryzen 5 3400G       Picasso     4        8   \n",
      "3            AMD       Ryzen 5 3500X       Matisse     6        6   \n",
      "4            AMD        Ryzen 5 3600       Matisse     6       12   \n",
      "..           ...                 ...           ...   ...      ...   \n",
      "122        Intel     Core i9-11900KF   Rocket Lake     8       16   \n",
      "123        Intel      Core i9-11900T   Rocket Lake     8       16   \n",
      "124        Intel      Core i9-12900K    Alder Lake    16       24   \n",
      "125        Intel     Core i9-12900KF    Alder Lake    16       24   \n",
      "126        Intel  Pentium Gold G6605  Comet Lake-R     2        4   \n",
      "\n",
      "              Clock  Boost       Socket Process L3 Cache  TDP        Released  \n",
      "0           3.5 GHz    3.5   Socket AM4      14      4MB   35  Nov 20th, 2019  \n",
      "1      3.6 to 4 GHz    4.0   Socket AM4      12      4MB   65   Jul 7th, 2019  \n",
      "2    3.7 to 4.2 GHz    4.2   Socket AM4      12      4MB   65   Jul 7th, 2019  \n",
      "3    3.6 to 4.1 GHz    4.1   Socket AM4       7     32MB   65  Sep 24th, 2019  \n",
      "4    3.6 to 4.2 GHz    4.2   Socket AM4       7     32MB   65   Jul 7th, 2019  \n",
      "..              ...    ...          ...     ...      ...  ...             ...  \n",
      "122  3.5 to 5.3 GHz    5.3  Socket 1200      14     16MB  125  Mar 16th, 2021  \n",
      "123  1.5 to 4.9 GHz    4.9  Socket 1200      14     16MB   35  Mar 16th, 2021  \n",
      "124  3.2 to 5.2 GHz    5.2  Socket 1700      10     30MB  125   Nov 4th, 2021  \n",
      "125  3.2 to 5.2 GHz    5.2  Socket 1700      10     30MB  125   Nov 4th, 2021  \n",
      "126         4.3 GHz    4.3  Socket 1200      14      4MB   65  Mar 16th, 2021  \n",
      "\n",
      "[127 rows x 12 columns]\n"
     ]
    }
   ],
   "source": [
    "# Drop server CPUs\n",
    "servers = []\n",
    "for i in cpu_df.index:\n",
    "    name = cpu_df.loc[i, \"Name\"]\n",
    "    if (\"EPYC\".lower() in name.lower()) or (\"Xeon\".lower() in name.lower()):\n",
    "        servers.append(i)\n",
    "cpu_df.drop(servers, inplace=True)\n",
    "cpu_df.reset_index(inplace=True, drop=True)\n",
    "\n",
    "print(cpu_df)"
   ]
  },
  {
   "cell_type": "code",
   "execution_count": 129,
   "metadata": {},
   "outputs": [
    {
     "name": "stdout",
     "output_type": "stream",
     "text": [
      "    Manufacturer                Name      Codename Cores  Threads  \\\n",
      "0            AMD        Athlon 3000G           Zen     2        4   \n",
      "1            AMD       Ryzen 3 3200G       Picasso     4        4   \n",
      "2            AMD       Ryzen 5 3400G       Picasso     4        8   \n",
      "3            AMD       Ryzen 5 3500X       Matisse     6        6   \n",
      "4            AMD        Ryzen 5 3600       Matisse     6       12   \n",
      "..           ...                 ...           ...   ...      ...   \n",
      "122        Intel     Core i9-11900KF   Rocket Lake     8       16   \n",
      "123        Intel      Core i9-11900T   Rocket Lake     8       16   \n",
      "124        Intel      Core i9-12900K    Alder Lake    16       24   \n",
      "125        Intel     Core i9-12900KF    Alder Lake    16       24   \n",
      "126        Intel  Pentium Gold G6605  Comet Lake-R     2        4   \n",
      "\n",
      "              Clock  Boost       Socket Process L3 Cache  TDP        Released  \\\n",
      "0           3.5 GHz    3.5   Socket AM4      14      4MB   35  Nov 20th, 2019   \n",
      "1      3.6 to 4 GHz    4.0   Socket AM4      12      4MB   65   Jul 7th, 2019   \n",
      "2    3.7 to 4.2 GHz    4.2   Socket AM4      12      4MB   65   Jul 7th, 2019   \n",
      "3    3.6 to 4.1 GHz    4.1   Socket AM4       7     32MB   65  Sep 24th, 2019   \n",
      "4    3.6 to 4.2 GHz    4.2   Socket AM4       7     32MB   65   Jul 7th, 2019   \n",
      "..              ...    ...          ...     ...      ...  ...             ...   \n",
      "122  3.5 to 5.3 GHz    5.3  Socket 1200      14     16MB  125  Mar 16th, 2021   \n",
      "123  1.5 to 4.9 GHz    4.9  Socket 1200      14     16MB   35  Mar 16th, 2021   \n",
      "124  3.2 to 5.2 GHz    5.2  Socket 1700      10     30MB  125   Nov 4th, 2021   \n",
      "125  3.2 to 5.2 GHz    5.2  Socket 1700      10     30MB  125   Nov 4th, 2021   \n",
      "126         4.3 GHz    4.3  Socket 1200      14      4MB   65  Mar 16th, 2021   \n",
      "\n",
      "     Performance  \n",
      "0          14.00  \n",
      "1          16.00  \n",
      "2          33.60  \n",
      "3          24.60  \n",
      "4          50.40  \n",
      "..           ...  \n",
      "122        84.80  \n",
      "123        78.40  \n",
      "124       118.56  \n",
      "125       118.56  \n",
      "126        17.20  \n",
      "\n",
      "[127 rows x 13 columns]\n"
     ]
    }
   ],
   "source": [
    "perf = []\n",
    "for i in cpu_df.index:\n",
    "    if cpu_df.at[i, 'Codename'] == \"Alder Lake\":\n",
    "        k = 0.95\n",
    "    else:\n",
    "        k = 1\n",
    "    perf.append(cpu_df.at[i, 'Threads'] * k * cpu_df.at[i, 'Boost'])\n",
    "\n",
    "cpu_df.insert(12, \"Performance\", perf)\n",
    "print(cpu_df)"
   ]
  },
  {
   "cell_type": "code",
   "execution_count": 130,
   "metadata": {},
   "outputs": [
    {
     "name": "stdout",
     "output_type": "stream",
     "text": [
      "    Manufacturer                Name       Socket  TDP  Performance\n",
      "0            AMD        Athlon 3000G   Socket AM4   35        14.00\n",
      "1            AMD       Ryzen 3 3200G   Socket AM4   65        16.00\n",
      "2            AMD       Ryzen 5 3400G   Socket AM4   65        33.60\n",
      "3            AMD       Ryzen 5 3500X   Socket AM4   65        24.60\n",
      "4            AMD        Ryzen 5 3600   Socket AM4   65        50.40\n",
      "..           ...                 ...          ...  ...          ...\n",
      "122        Intel     Core i9-11900KF  Socket 1200  125        84.80\n",
      "123        Intel      Core i9-11900T  Socket 1200   35        78.40\n",
      "124        Intel      Core i9-12900K  Socket 1700  125       118.56\n",
      "125        Intel     Core i9-12900KF  Socket 1700  125       118.56\n",
      "126        Intel  Pentium Gold G6605  Socket 1200   65        17.20\n",
      "\n",
      "[127 rows x 5 columns]\n"
     ]
    }
   ],
   "source": [
    "# Drop irrelevant features\n",
    "cpu_df.drop(['Codename', 'Cores', 'Threads', 'Clock', 'Boost', 'Process', 'L3 Cache', 'Released'], axis=1, inplace=True)\n",
    "\n",
    "print(cpu_df)"
   ]
  },
  {
   "cell_type": "code",
   "execution_count": 131,
   "metadata": {},
   "outputs": [
    {
     "data": {
      "text/plain": [
       "<AxesSubplot:>"
      ]
     },
     "execution_count": 131,
     "metadata": {},
     "output_type": "execute_result"
    },
    {
     "data": {
      "image/png": "[encoded data removed]",
      "text/plain": [
       "<Figure size 432x288 with 1 Axes>"
      ]
     },
     "metadata": {
      "needs_background": "light"
     },
     "output_type": "display_data"
    }
   ],
   "source": [
    "cpu_df['Performance'].hist(bins=30, edgecolor='k')"
   ]
  },
  {
   "cell_type": "code",
   "execution_count": 132,
   "metadata": {},
   "outputs": [
    {
     "name": "stdout",
     "output_type": "stream",
     "text": [
      "    Manufacturer                Name       Socket  TDP Performance\n",
      "0            AMD        Athlon 3000G   Socket AM4   35       light\n",
      "1            AMD       Ryzen 3 3200G   Socket AM4   65       light\n",
      "2            AMD       Ryzen 5 3400G   Socket AM4   65       light\n",
      "3            AMD       Ryzen 5 3500X   Socket AM4   65       light\n",
      "4            AMD        Ryzen 5 3600   Socket AM4   65    moderate\n",
      "..           ...                 ...          ...  ...         ...\n",
      "122        Intel     Core i9-11900KF  Socket 1200  125        high\n",
      "123        Intel      Core i9-11900T  Socket 1200   35        high\n",
      "124        Intel      Core i9-12900K  Socket 1700  125        high\n",
      "125        Intel     Core i9-12900KF  Socket 1700  125        high\n",
      "126        Intel  Pentium Gold G6605  Socket 1200   65       light\n",
      "\n",
      "[127 rows x 5 columns]\n"
     ]
    }
   ],
   "source": [
    "perf_labels = pd.qcut(cpu_df[\"Performance\"], 3, labels=[\"light\", \"moderate\", \"high\"])\n",
    "for i in cpu_df.index:\n",
    "    cpu_df.loc[i, \"Performance\"] = perf_labels[i]\n",
    "\n",
    "print(cpu_df)"
   ]
  },
  {
   "cell_type": "code",
   "execution_count": 133,
   "metadata": {},
   "outputs": [],
   "source": [
    "CLEAN_CPU_CSV = \"./Data/cpu_clean.csv\"\n",
    "cpu_df.to_csv(CLEAN_CPU_CSV, index=False)"
   ]
  },
  {
   "cell_type": "code",
   "execution_count": null,
   "metadata": {},
   "outputs": [],
   "source": []
  }
 ],
 "metadata": {
  "interpreter": {
   "hash": "93931ace6c329e549d86715bde312d15ad3289045188c625dbda1249031d89a3"
  },
  "kernelspec": {
   "display_name": "Python 3.9.7 64-bit ('tf-gpu': conda)",
   "language": "python",
   "name": "python3"
  },
  "language_info": {
   "codemirror_mode": {
    "name": "ipython",
    "version": 3
   },
   "file_extension": ".py",
   "mimetype": "text/x-python",
   "name": "python",
   "nbconvert_exporter": "python",
   "pygments_lexer": "ipython3",
   "version": "3.8.12"
  },
  "orig_nbformat": 4
 },
 "nbformat": 4,
 "nbformat_minor": 2
}
